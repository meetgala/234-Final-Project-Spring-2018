{
 "cells": [
  {
   "cell_type": "code",
   "execution_count": null,
   "metadata": {},
   "outputs": [],
   "source": [
    "# This is the download chunk for the data on Diabetes from the CDC NHANES Dataset for 234 Final Project.\n",
    "\n",
    "#The Code has been borrowed from Evidation Data Science Module written by Ben Bradshaw.\n",
    "\n",
    "import pandas as pd\n",
    "import numpy as np\n",
    "import os\n",
    "import matplotlib.pyplot as plt\n",
    "import utils # Utility functions containained in ./utils/\n",
    "import scipy\n",
    "import seaborn as sns\n",
    "\n",
    "%matplotlib inline\n",
    "%load_ext autoreload\n",
    "%autoreload 2\n",
    "\n",
    "# Change this location to the path where you would like your data saved to\n",
    "data_dir = '/home/jovyan/work/Final Project 234 Spring 2018/'\n",
    "\n",
    "# Path to hdf store we will create later\n",
    "hdf_path = 'Diabetes_data.h5'\n"
   ]
  },
  {
   "cell_type": "code",
   "execution_count": null,
   "metadata": {},
   "outputs": [],
   "source": [
    "source_paths = {\n",
    "    'Diabetes_questionnaire': 'https://wwwn.cdc.gov/Nchs/Nhanes/2015-2016/DIQ_I.XPT',\n",
    "    'Demographic_info':'https://wwwn.cdc.gov/Nchs/Nhanes/2015-2016/DEMO_I.XPT'\n",
    "}"
   ]
  },
  {
   "cell_type": "code",
   "execution_count": null,
   "metadata": {},
   "outputs": [],
   "source": [
    "pip?\n"
   ]
  },
  {
   "cell_type": "code",
   "execution_count": null,
   "metadata": {},
   "outputs": [],
   "source": [
    "utils.read_sas_write_hdf(source_paths, data_dir, hdf_path)"
   ]
  },
  {
   "cell_type": "code",
   "execution_count": null,
   "metadata": {},
   "outputs": [],
   "source": [
    "pax_raw = pd.read_hdf(os.path.join(data_dir, hdf_path), 'Diabetes_questionnaire')"
   ]
  },
  {
   "cell_type": "code",
   "execution_count": null,
   "metadata": {},
   "outputs": [],
   "source": [
    "len(pax_raw)"
   ]
  },
  {
   "cell_type": "code",
   "execution_count": null,
   "metadata": {},
   "outputs": [],
   "source": []
  }
 ],
 "metadata": {
  "language_info": {
   "name": "python",
   "pygments_lexer": "ipython3"
  }
 },
 "nbformat": 4,
 "nbformat_minor": 2
}
